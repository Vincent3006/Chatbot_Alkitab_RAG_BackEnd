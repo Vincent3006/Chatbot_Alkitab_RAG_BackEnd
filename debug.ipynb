{
 "cells": [
  {
   "cell_type": "code",
   "execution_count": null,
   "id": "5ca8ac90",
   "metadata": {},
   "outputs": [],
   "source": []
  },
  {
   "cell_type": "code",
   "execution_count": 1,
   "id": "7c9b3157",
   "metadata": {},
   "outputs": [
    {
     "name": "stdout",
     "output_type": "stream",
     "text": [
      "Berhasil terhubung ke database di 'chroma_db_normal_semantic'\n",
      "Berhasil mendapatkan koleksi 'semantic_chunks'\n",
      "Jumlah dokumen di dalam koleksi: 8003\n",
      "\n",
      "Contoh 5 data pertama di database:\n",
      "  - ID: 29_Amos.pdf_0\n",
      "    Metadata: {'source_file': '29_Amos.pdf', 'source_range': 'Amos 1:1:-Amos 1:12:'}\n",
      "  - ID: 29_Amos.pdf_1\n",
      "    Metadata: {'source_file': '29_Amos.pdf', 'source_range': 'Amos 1:13:-Amos 1:13:'}\n",
      "  - ID: 29_Amos.pdf_2\n",
      "    Metadata: {'source_file': '29_Amos.pdf', 'source_range': 'Amos 1:14:-Amos 1:14:'}\n",
      "  - ID: 29_Amos.pdf_3\n",
      "    Metadata: {'source_range': 'Amos 1:15:-Amos 2:2:', 'source_file': '29_Amos.pdf'}\n",
      "  - ID: 29_Amos.pdf_4\n",
      "    Metadata: {'source_file': '29_Amos.pdf', 'source_range': 'Amos 2:3:-Amos 2:6:'}\n",
      "\n",
      "[KESIMPULAN] Data ADA di dalam database. Masalah ada di script retrieval Anda.\n"
     ]
    }
   ],
   "source": [
    "import chromadb\n",
    "\n",
    "DB_NAME = \"chroma_db_normal_semantic\"\n",
    "COLLECTION_NAME = \"semantic_chunks\"\n",
    "\n",
    "try:\n",
    "    # 1. Hubungkan ke client DENGAN PATH YANG SAMA\n",
    "    client = chromadb.PersistentClient(path=DB_NAME)\n",
    "    print(f\"Berhasil terhubung ke database di '{DB_NAME}'\")\n",
    "\n",
    "    # 2. Ambil koleksi DENGAN NAMA YANG SAMA\n",
    "    # Gunakan get_collection, bukan get_or_create_collection, untuk memastikan koleksi sudah ada\n",
    "    collection = client.get_collection(name=COLLECTION_NAME)\n",
    "    print(f\"Berhasil mendapatkan koleksi '{COLLECTION_NAME}'\")\n",
    "\n",
    "    # 3. Periksa jumlah data\n",
    "    count = collection.count()\n",
    "    print(f\"Jumlah dokumen di dalam koleksi: {count}\")\n",
    "\n",
    "    if count > 0:\n",
    "        # 4. Intip beberapa data untuk memastikan isinya benar\n",
    "        print(\"\\nContoh 5 data pertama di database:\")\n",
    "        data = collection.get(limit=5, include=[\"metadatas\", \"documents\"])\n",
    "        for i in range(len(data['ids'])):\n",
    "            print(f\"  - ID: {data['ids'][i]}\")\n",
    "            print(f\"    Metadata: {data['metadatas'][i]}\")\n",
    "            # print(f\"    Document: {data['documents'][i][:100]}...\") # Potong agar tidak terlalu panjang\n",
    "        print(\"\\n[KESIMPULAN] Data ADA di dalam database. Masalah ada di script retrieval Anda.\")\n",
    "    else:\n",
    "        print(\"\\n[KESIMPULAN] Database KOSONG! Masalah ada pada script embedding Anda yang tidak berhasil menyimpan data.\")\n",
    "\n",
    "except Exception as e:\n",
    "    print(f\"\\n[ERROR] Gagal mengakses database atau koleksi: {e}\")\n",
    "    print(\" - Periksa kembali apakah nama direktori DB_NAME dan COLLECTION_NAME sudah benar.\")\n",
    "    print(\" - Pastikan script ini dijalankan dari direktori yang sama dengan script embedding Anda.\")"
   ]
  },
  {
   "cell_type": "code",
   "execution_count": 2,
   "id": "46dc342c",
   "metadata": {},
   "outputs": [
    {
     "name": "stdout",
     "output_type": "stream",
     "text": [
      "Berhasil terhubung ke database di 'chroma_db_0.4'\n",
      "Berhasil mendapatkan koleksi 'semantic_chunks'\n",
      "Jumlah dokumen di dalam koleksi: 10387\n",
      "\n",
      "Contoh 5 data pertama di database:\n",
      "  - ID: 10_2Samuel.pdf_0\n",
      "    Metadata: {'source_file': '10_2Samuel.pdf', 'source_range': '2Samuel 1:1:-2Samuel 1:6:', 'break_similarity_score': 0.4643759854042453, 'final_char_count': 996}\n",
      "  - ID: 10_2Samuel.pdf_1\n",
      "    Metadata: {'source_range': '2Samuel 1:7:-2Samuel 1:8:', 'source_file': '10_2Samuel.pdf', 'final_char_count': 169, 'break_similarity_score': 0.3677739451917916}\n",
      "  - ID: 10_2Samuel.pdf_2\n",
      "    Metadata: {'source_file': '10_2Samuel.pdf', 'break_similarity_score': 0.3091444984454907, 'final_char_count': 351, 'source_range': '2Samuel 1:9:-2Samuel 1:10:'}\n",
      "  - ID: 10_2Samuel.pdf_3\n",
      "    Metadata: {'source_range': '2Samuel 1:11:-2Samuel 1:11:', 'source_file': '10_2Samuel.pdf', 'break_similarity_score': 0.3741093964950915, 'final_char_count': 117}\n",
      "  - ID: 10_2Samuel.pdf_4\n",
      "    Metadata: {'break_similarity_score': 0.3857490396508246, 'source_file': '10_2Samuel.pdf', 'source_range': '2Samuel 1:12:-2Samuel 1:12:', 'final_char_count': 184}\n",
      "\n",
      "[KESIMPULAN] Data ADA di dalam database. Masalah ada di script retrieval Anda.\n"
     ]
    }
   ],
   "source": [
    "import chromadb\n",
    "\n",
    "DB_NAME = \"chroma_db_0.4\"\n",
    "COLLECTION_NAME = \"semantic_chunks\"\n",
    "\n",
    "try:\n",
    "    # 1. Hubungkan ke client DENGAN PATH YANG SAMA\n",
    "    client = chromadb.PersistentClient(path=DB_NAME)\n",
    "    print(f\"Berhasil terhubung ke database di '{DB_NAME}'\")\n",
    "\n",
    "    # 2. Ambil koleksi DENGAN NAMA YANG SAMA\n",
    "    # Gunakan get_collection, bukan get_or_create_collection, untuk memastikan koleksi sudah ada\n",
    "    collection = client.get_collection(name=COLLECTION_NAME)\n",
    "    print(f\"Berhasil mendapatkan koleksi '{COLLECTION_NAME}'\")\n",
    "\n",
    "    # 3. Periksa jumlah data\n",
    "    count = collection.count()\n",
    "    print(f\"Jumlah dokumen di dalam koleksi: {count}\")\n",
    "\n",
    "    if count > 0:\n",
    "        # 4. Intip beberapa data untuk memastikan isinya benar\n",
    "        print(\"\\nContoh 5 data pertama di database:\")\n",
    "        data = collection.get(limit=5, include=[\"metadatas\", \"documents\"])\n",
    "        for i in range(len(data['ids'])):\n",
    "            print(f\"  - ID: {data['ids'][i]}\")\n",
    "            print(f\"    Metadata: {data['metadatas'][i]}\")\n",
    "            # print(f\"    Document: {data['documents'][i][:100]}...\") # Potong agar tidak terlalu panjang\n",
    "        print(\"\\n[KESIMPULAN] Data ADA di dalam database. Masalah ada di script retrieval Anda.\")\n",
    "    else:\n",
    "        print(\"\\n[KESIMPULAN] Database KOSONG! Masalah ada pada script embedding Anda yang tidak berhasil menyimpan data.\")\n",
    "\n",
    "except Exception as e:\n",
    "    print(f\"\\n[ERROR] Gagal mengakses database atau koleksi: {e}\")\n",
    "    print(\" - Periksa kembali apakah nama direktori DB_NAME dan COLLECTION_NAME sudah benar.\")\n",
    "    print(\" - Pastikan script ini dijalankan dari direktori yang sama dengan script embedding Anda.\")"
   ]
  },
  {
   "cell_type": "code",
   "execution_count": 2,
   "id": "85a9e6b8",
   "metadata": {},
   "outputs": [
    {
     "name": "stdout",
     "output_type": "stream",
     "text": [
      "Berhasil terhubung ke database di 'chroma_db_Semantic2'\n",
      "\n",
      "[ERROR] Gagal mengakses database atau koleksi: Collection [semantic_chunks] does not exists\n",
      " - Periksa kembali apakah nama direktori DB_NAME dan COLLECTION_NAME sudah benar.\n",
      " - Pastikan script ini dijalankan dari direktori yang sama dengan script embedding Anda.\n"
     ]
    }
   ],
   "source": [
    "import chromadb\n",
    "\n",
    "DB_NAME = \"chroma_db_Semantic2\"\n",
    "COLLECTION_NAME = \"semantic_chunks\"\n",
    "\n",
    "try:\n",
    "    # 1. Hubungkan ke client DENGAN PATH YANG SAMA\n",
    "    client = chromadb.PersistentClient(path=DB_NAME)\n",
    "    print(f\"Berhasil terhubung ke database di '{DB_NAME}'\")\n",
    "\n",
    "    # 2. Ambil koleksi DENGAN NAMA YANG SAMA\n",
    "    # Gunakan get_collection, bukan get_or_create_collection, untuk memastikan koleksi sudah ada\n",
    "    collection = client.get_collection(name=COLLECTION_NAME)\n",
    "    print(f\"Berhasil mendapatkan koleksi '{COLLECTION_NAME}'\")\n",
    "\n",
    "    # 3. Periksa jumlah data\n",
    "    count = collection.count()\n",
    "    print(f\"Jumlah dokumen di dalam koleksi: {count}\")\n",
    "\n",
    "    if count > 0:\n",
    "        # 4. Intip beberapa data untuk memastikan isinya benar\n",
    "        print(\"\\nContoh 5 data pertama di database:\")\n",
    "        data = collection.get(limit=5, include=[\"metadatas\", \"documents\"])\n",
    "        for i in range(len(data['ids'])):\n",
    "            print(f\"  - ID: {data['ids'][i]}\")\n",
    "            print(f\"    Metadata: {data['metadatas'][i]}\")\n",
    "            # print(f\"    Document: {data['documents'][i][:100]}...\") # Potong agar tidak terlalu panjang\n",
    "        print(\"\\n[KESIMPULAN] Data ADA di dalam database. Masalah ada di script retrieval Anda.\")\n",
    "    else:\n",
    "        print(\"\\n[KESIMPULAN] Database KOSONG! Masalah ada pada script embedding Anda yang tidak berhasil menyimpan data.\")\n",
    "\n",
    "except Exception as e:\n",
    "    print(f\"\\n[ERROR] Gagal mengakses database atau koleksi: {e}\")\n",
    "    print(\" - Periksa kembali apakah nama direktori DB_NAME dan COLLECTION_NAME sudah benar.\")\n",
    "    print(\" - Pastikan script ini dijalankan dari direktori yang sama dengan script embedding Anda.\")"
   ]
  }
 ],
 "metadata": {
  "kernelspec": {
   "display_name": "venv",
   "language": "python",
   "name": "python3"
  },
  "language_info": {
   "codemirror_mode": {
    "name": "ipython",
    "version": 3
   },
   "file_extension": ".py",
   "mimetype": "text/x-python",
   "name": "python",
   "nbconvert_exporter": "python",
   "pygments_lexer": "ipython3",
   "version": "3.11.0"
  }
 },
 "nbformat": 4,
 "nbformat_minor": 5
}
